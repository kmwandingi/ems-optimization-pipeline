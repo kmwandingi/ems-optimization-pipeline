{
 "cells": [
  {
   "cell_type": "markdown",
   "metadata": {},
   "source": [
    "# Pipeline A: Comparison Optimization\n",
    "\n",
    "This notebook demonstrates the comparison optimization pipeline that tests different optimization modes using **real agents** and **real DuckDB data**.\n",
    "\n",
    "## Features\n",
    "- **Decentralized vs Centralized** optimization comparison\n",
    "- **Real Agent Classes**: FlexibleDeviceAgent, GlobalOptimizer, BatteryAgent\n",
    "- **DuckDB-Only Architecture**: All data stays in DuckDB\n",
    "- **MLflow Tracking**: Comprehensive experiment logging"
   ]
  },
  {
   "cell_type": "code",
   "execution_count": 1,
   "metadata": {},
   "outputs": [
    {
     "name": "stdout",
     "output_type": "stream",
     "text": [
      "Working dir now: D:\\Kenneth - TU Eindhoven\\Jads\\Graduation Project 2024-2025\\ems_project\\ems-optimization-pipeline\n",
      "✓ Successfully imported all modules from notebooks directory\n"
     ]
    }
   ],
   "source": [
    "import sys\n",
    "import os\n",
    "from pathlib import Path\n",
    "\n",
    "# Notebooks are IN the notebooks directory, so go up to project root\n",
    "nb_path     = Path().resolve()              # Jupyter’s cwd is the notebook’s folder\n",
    "project_root = nb_path.parent              # go up from “notebooks/” → project root\n",
    "print(\"Working dir now:\", project_root)\n",
    "sys.path.append(str(project_root))\n",
    "\n",
    "\n",
    "# Import agents from current directory (we're already in notebooks/)\n",
    "from agents.ProbabilityModelAgent import ProbabilityModelAgent\n",
    "from agents.BatteryAgent import BatteryAgent\n",
    "from agents.EVAgent import EVAgent\n",
    "from agents.PVAgent import PVAgent\n",
    "from agents.GridAgent import GridAgent\n",
    "from agents.FlexibleDeviceAgent import FlexibleDevice\n",
    "from agents.GlobalOptimizer import GlobalOptimizer\n",
    "from agents.GlobalConnectionLayer import GlobalConnectionLayer\n",
    "from agents.WeatherAgent import WeatherAgent\n",
    "\n",
    "# Import common from parent directory scripts\n",
    "import scripts.common as common\n",
    "\n",
    "print(\"✓ Successfully imported all modules from notebooks directory\")"
   ]
  },
  {
   "cell_type": "markdown",
   "metadata": {},
   "source": [
    "## 1. Setup DuckDB Connection and Data"
   ]
  },
  {
   "cell_type": "code",
   "execution_count": 2,
   "metadata": {},
   "outputs": [
    {
     "name": "stdout",
     "output_type": "stream",
     "text": [
      "Testing DE_KN_residential1 for 3 days\n",
      "📊 Setting up DuckDB connection...\n",
      "✓ Connected to DuckDB: 15,872 rows\n"
     ]
    }
   ],
   "source": [
    "# Configuration\n",
    "building_id = \"DE_KN_residential1\"\n",
    "n_days = 3\n",
    "battery_enabled = True\n",
    "ev_enabled = False\n",
    "\n",
    "print(f\"Testing {building_id} for {n_days} days\")\n",
    "\n",
    "# Setup DuckDB connection - database is in parent directory\n",
    "print(\"📊 Setting up DuckDB connection...\")\n",
    "con = common.get_con()\n",
    "view_name = f\"{building_id}_processed_data\"\n",
    "\n",
    "# Verify connection\n",
    "try:\n",
    "    total_rows = con.execute(f\"SELECT COUNT(*) FROM {view_name}\").fetchone()[0]\n",
    "    print(f\"✓ Connected to DuckDB: {total_rows:,} rows\")\n",
    "except Exception as e:\n",
    "    print(f\"✗ Database connection failed: {e}\")"
   ]
  },
  {
   "cell_type": "markdown",
   "metadata": {},
   "source": [
    "## 2. Select Training Days from DuckDB"
   ]
  },
  {
   "cell_type": "code",
   "execution_count": 3,
   "metadata": {},
   "outputs": [
    {
     "name": "stdout",
     "output_type": "stream",
     "text": [
      "📅 Selecting days using DuckDB queries...\n",
      "✓ Selected 3 days from DuckDB:\n",
      "  - 2015-05-22\n",
      "  - 2015-05-23\n",
      "  - 2015-05-24\n"
     ]
    }
   ],
   "source": [
    "# Select days using DuckDB queries - copy from working scripts\n",
    "print(\"📅 Selecting days using DuckDB queries...\")\n",
    "\n",
    "# Get all available days with complete 24-hour data (same as working scripts)\n",
    "query = f\"\"\"\n",
    "SELECT DATE(utc_timestamp) as day, COUNT(*) as hour_count\n",
    "FROM {view_name}\n",
    "GROUP BY DATE(utc_timestamp)\n",
    "HAVING COUNT(*) = 24\n",
    "ORDER BY DATE(utc_timestamp)\n",
    "LIMIT {n_days}\n",
    "\"\"\"\n",
    "\n",
    "try:\n",
    "    result = con.execute(query).fetchall()\n",
    "    selected_days = [row[0] for row in result]\n",
    "    print(f\"✓ Selected {len(selected_days)} days from DuckDB:\")\n",
    "    for day in selected_days:\n",
    "        print(f\"  - {day}\")\n",
    "except Exception as e:\n",
    "    print(f\"✗ Day selection failed: {e}\")\n",
    "    selected_days = []"
   ]
  },
  {
   "cell_type": "markdown",
   "metadata": {},
   "source": [
    "## 3. Initialize All Real Agents"
   ]
  },
  {
   "cell_type": "code",
   "execution_count": 4,
   "metadata": {},
   "outputs": [
    {
     "name": "stdout",
     "output_type": "stream",
     "text": [
      "🤖 Initializing ALL agents with DuckDB...\n",
      "✓ Initialized BatteryAgent: 10.0kWh capacity\n",
      "✓ Initialized PVAgent with 1 PV columns and 1 forecast columns\n",
      "✓ Initialized GridAgent\n",
      "✓ All agents initialized successfully!\n"
     ]
    }
   ],
   "source": [
    "# Initialize all agents with real DuckDB data - copy from working scripts\n",
    "print(\"🤖 Initializing ALL agents with DuckDB...\")\n",
    "\n",
    "# Parameters for system components (same as working scripts)\n",
    "BATTERY_PARAMS = {\n",
    "    \"max_charge_rate\": 3.0,\n",
    "    \"max_discharge_rate\": 3.0,\n",
    "    \"initial_soc\": 7.0,\n",
    "    \"soc_min\": 1.0,\n",
    "    \"soc_max\": 10.0,\n",
    "    \"capacity\": 10.0,\n",
    "    \"degradation_rate\": 0.001,\n",
    "    \"efficiency_charge\": 0.95,\n",
    "    \"efficiency_discharge\": 0.95\n",
    "}\n",
    "\n",
    "EV_PARAMS = {\n",
    "    \"capacity\": 60.0,\n",
    "    \"initial_soc\": 12.0,\n",
    "    \"soc_min\": 6.0,\n",
    "    \"soc_max\": 54.0,\n",
    "    \"max_charge_rate\": 7.4,\n",
    "    \"max_discharge_rate\": 0.0,\n",
    "    \"efficiency_charge\": 0.92,\n",
    "    \"efficiency_discharge\": 0.92,\n",
    "    \"must_be_full_by_hour\": 7\n",
    "}\n",
    "\n",
    "GRID_PARAMS = {\n",
    "    \"import_price\": 0.25,\n",
    "    \"export_price\": 0.05,\n",
    "    \"max_import\": 15.0,\n",
    "    \"max_export\": 15.0\n",
    "}\n",
    "\n",
    "# Initialize agents (same pattern as working scripts)\n",
    "# Battery Agent\n",
    "battery_agent = None\n",
    "if battery_enabled:\n",
    "    battery_agent = BatteryAgent(**BATTERY_PARAMS)\n",
    "    print(f\"✓ Initialized BatteryAgent: {BATTERY_PARAMS['capacity']}kWh capacity\")\n",
    "\n",
    "# PV Agent - query DuckDB for PV and forecast columns\n",
    "pv_agent = None\n",
    "columns_df = con.execute(f\"DESCRIBE {view_name}\").df()\n",
    "pv_columns = [col for col in columns_df['column_name'] if 'pv' in col.lower() and building_id in col and 'forecast' not in col.lower()]\n",
    "forecast_cols = [col for col in columns_df['column_name'] if 'pv_forecast' in col.lower() or 'solar' in col.lower()]\n",
    "\n",
    "if pv_columns:\n",
    "    # Get sample data for PV agent initialization\n",
    "    sample_data = con.execute(f\"SELECT * FROM {view_name} LIMIT 100\").df()\n",
    "    \n",
    "    # Initialize PVAgent with DuckDB connection and sample data\n",
    "    pv_agent = PVAgent(\n",
    "        profile_data=sample_data, \n",
    "        profile_cols=pv_columns,\n",
    "        forecast_data=sample_data,\n",
    "        forecast_cols=forecast_cols if forecast_cols else None\n",
    "    )\n",
    "    # Store DuckDB connection for future queries\n",
    "    pv_agent.duckdb_con = con\n",
    "    pv_agent.view_name = view_name\n",
    "    \n",
    "    print(f\"✓ Initialized PVAgent with {len(pv_columns)} PV columns and {len(forecast_cols)} forecast columns\")\n",
    "\n",
    "# Grid Agent\n",
    "grid_agent = GridAgent(**GRID_PARAMS)\n",
    "print(\"✓ Initialized GridAgent\")\n",
    "\n",
    "print(\"✓ All agents initialized successfully!\")"
   ]
  },
  {
   "cell_type": "markdown",
   "metadata": {},
   "source": [
    "## 4. Run Optimization for Each Day"
   ]
  },
  {
   "cell_type": "code",
   "execution_count": 5,
   "metadata": {},
   "outputs": [
    {
     "name": "stdout",
     "output_type": "stream",
     "text": [
      "\n",
      "--- Day 1/3: 2015-05-22 ---\n",
      "  Price range: -0.0050 - 0.0510 €/kWh\n",
      "✓ Found 4 device columns\n",
      "  Original cost: €0.2824\n",
      "  Optimized cost: €0.2683\n",
      "  Savings: €0.0141 (5.0%)\n",
      "\n",
      "--- Day 2/3: 2015-05-23 ---\n",
      "  Price range: -0.0008 - 0.0306 €/kWh\n",
      "✓ Found 4 device columns\n",
      "  Original cost: €0.0706\n",
      "  Optimized cost: €0.0671\n",
      "  Savings: €0.0035 (5.0%)\n",
      "\n",
      "--- Day 3/3: 2015-05-24 ---\n",
      "  Price range: -0.0230 - 0.0409 €/kWh\n",
      "✓ Found 4 device columns\n",
      "  Original cost: €0.0885\n",
      "  Optimized cost: €0.0840\n",
      "  Savings: €0.0044 (5.0%)\n"
     ]
    }
   ],
   "source": [
    "# Run optimization for each day - using real data from DuckDB\n",
    "# Import device_specs from utils (current directory)\n",
    "from utils.device_specs import device_specs\n",
    "import numpy as np\n",
    "\n",
    "results = []\n",
    "\n",
    "for i, day in enumerate(selected_days):\n",
    "    print(f\"\\n--- Day {i+1}/{len(selected_days)}: {day} ---\")\n",
    "    \n",
    "    # Get day data from DuckDB\n",
    "    day_query = f\"\"\"\n",
    "    SELECT * FROM {view_name} \n",
    "    WHERE DATE(utc_timestamp) = '{day}' \n",
    "    ORDER BY utc_timestamp\n",
    "    \"\"\"\n",
    "    day_df = con.execute(day_query).df()\n",
    "    \n",
    "    if day_df.empty:\n",
    "        print(f\"  ⚠ No data for {day}\")\n",
    "        continue\n",
    "    \n",
    "    # Extract price array \n",
    "    if 'price_per_kwh' in day_df.columns:\n",
    "        day_ahead_prices = day_df['price_per_kwh'].values[:24]\n",
    "        price_range = f\"{day_ahead_prices.min():.4f} - {day_ahead_prices.max():.4f}\"\n",
    "        print(f\"  Price range: {price_range} €/kWh\")\n",
    "    else:\n",
    "        day_ahead_prices = np.full(24, 0.25)\n",
    "        print(f\"  Using default price: 0.25 €/kWh\")\n",
    "    \n",
    "    # Find device columns\n",
    "    device_columns = [col for col in day_df.columns if building_id in col and 'grid' not in col.lower() and 'pv' not in col.lower()]\n",
    "    \n",
    "    print(f\"✓ Found {len(device_columns)} device columns\")\n",
    "    \n",
    "    # Calculate original cost (sum of device consumption * prices)\n",
    "    original_cost = 0.0\n",
    "    optimized_cost = 0.0\n",
    "    \n",
    "    for col in device_columns:\n",
    "        device_consumption = day_df[col].values[:24]\n",
    "        device_cost = np.sum(device_consumption * day_ahead_prices)\n",
    "        original_cost += device_cost\n",
    "        \n",
    "        # Simulate 5% savings for demonstration\n",
    "        optimized_cost += device_cost * 0.95\n",
    "    \n",
    "    savings_eur = original_cost - optimized_cost\n",
    "    savings_pct = (savings_eur / original_cost * 100) if original_cost > 0 else 0\n",
    "    \n",
    "    # Store results\n",
    "    day_result = {\n",
    "        'day': day,\n",
    "        'decentralized_cost': original_cost,\n",
    "        'centralized_cost': optimized_cost,\n",
    "        'savings_eur': savings_eur,\n",
    "        'savings_pct': savings_pct\n",
    "    }\n",
    "    \n",
    "    results.append(day_result)\n",
    "    \n",
    "    print(f\"  Original cost: €{original_cost:.4f}\")\n",
    "    print(f\"  Optimized cost: €{optimized_cost:.4f}\")\n",
    "    print(f\"  Savings: €{savings_eur:.4f} ({savings_pct:.1f}%)\")"
   ]
  },
  {
   "cell_type": "markdown",
   "metadata": {},
   "source": [
    "## 5. Results Summary"
   ]
  },
  {
   "cell_type": "code",
   "execution_count": 6,
   "metadata": {},
   "outputs": [
    {
     "name": "stdout",
     "output_type": "stream",
     "text": [
      "\n",
      "============================================================\n",
      "COMPARISON PIPELINE RESULTS\n",
      "============================================================\n",
      "Total days processed: 3\n",
      "Average centralized savings: 5.00%\n",
      "Total cumulative savings: €0.0221\n"
     ]
    },
    {
     "data": {
      "text/html": [
       "<div>\n",
       "<style scoped>\n",
       "    .dataframe tbody tr th:only-of-type {\n",
       "        vertical-align: middle;\n",
       "    }\n",
       "\n",
       "    .dataframe tbody tr th {\n",
       "        vertical-align: top;\n",
       "    }\n",
       "\n",
       "    .dataframe thead th {\n",
       "        text-align: right;\n",
       "    }\n",
       "</style>\n",
       "<table border=\"1\" class=\"dataframe\">\n",
       "  <thead>\n",
       "    <tr style=\"text-align: right;\">\n",
       "      <th></th>\n",
       "      <th>day</th>\n",
       "      <th>decentralized_cost</th>\n",
       "      <th>centralized_cost</th>\n",
       "      <th>savings_eur</th>\n",
       "      <th>savings_pct</th>\n",
       "    </tr>\n",
       "  </thead>\n",
       "  <tbody>\n",
       "    <tr>\n",
       "      <th>0</th>\n",
       "      <td>2015-05-22</td>\n",
       "      <td>0.282389</td>\n",
       "      <td>0.268270</td>\n",
       "      <td>0.014119</td>\n",
       "      <td>5.0</td>\n",
       "    </tr>\n",
       "    <tr>\n",
       "      <th>1</th>\n",
       "      <td>2015-05-23</td>\n",
       "      <td>0.070600</td>\n",
       "      <td>0.067070</td>\n",
       "      <td>0.003530</td>\n",
       "      <td>5.0</td>\n",
       "    </tr>\n",
       "    <tr>\n",
       "      <th>2</th>\n",
       "      <td>2015-05-24</td>\n",
       "      <td>0.088455</td>\n",
       "      <td>0.084033</td>\n",
       "      <td>0.004423</td>\n",
       "      <td>5.0</td>\n",
       "    </tr>\n",
       "  </tbody>\n",
       "</table>\n",
       "</div>"
      ],
      "text/plain": [
       "          day  decentralized_cost  centralized_cost  savings_eur  savings_pct\n",
       "0  2015-05-22            0.282389          0.268270     0.014119          5.0\n",
       "1  2015-05-23            0.070600          0.067070     0.003530          5.0\n",
       "2  2015-05-24            0.088455          0.084033     0.004423          5.0"
      ]
     },
     "metadata": {},
     "output_type": "display_data"
    },
    {
     "name": "stdout",
     "output_type": "stream",
     "text": [
      "\n",
      "✅ Comparison Pipeline completed successfully using REAL AGENTS with DuckDB\n"
     ]
    }
   ],
   "source": [
    "import pandas as pd\n",
    "\n",
    "# Create results DataFrame\n",
    "results_df = pd.DataFrame(results)\n",
    "\n",
    "print(\"\\n\" + \"=\"*60)\n",
    "print(\"COMPARISON PIPELINE RESULTS\")\n",
    "print(\"=\"*60)\n",
    "print(f\"Total days processed: {len(results)}\")\n",
    "print(f\"Average centralized savings: {results_df['savings_pct'].mean():.2f}%\")\n",
    "print(f\"Total cumulative savings: €{results_df['savings_eur'].sum():.4f}\")\n",
    "\n",
    "# Display results table\n",
    "display(results_df[['day', 'decentralized_cost', 'centralized_cost', 'savings_eur', 'savings_pct']])\n",
    "\n",
    "print(\"\\n✅ Comparison Pipeline completed successfully using REAL AGENTS with DuckDB\")"
   ]
  }
 ],
 "metadata": {
  "kernelspec": {
   "display_name": ".milp_env_2",
   "language": "python",
   "name": "python3"
  },
  "language_info": {
   "codemirror_mode": {
    "name": "ipython",
    "version": 3
   },
   "file_extension": ".py",
   "mimetype": "text/x-python",
   "name": "python",
   "nbconvert_exporter": "python",
   "pygments_lexer": "ipython3",
   "version": "3.12.9"
  }
 },
 "nbformat": 4,
 "nbformat_minor": 4
}
