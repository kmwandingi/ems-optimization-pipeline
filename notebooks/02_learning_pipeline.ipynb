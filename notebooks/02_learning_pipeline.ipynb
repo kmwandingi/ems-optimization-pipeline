{
 "cells": [
  {
   "cell_type": "markdown",
   "metadata": {},
   "source": [
    "# Pipeline B: Integrated Learning & Optimization\n",
    "\n",
    "This notebook demonstrates the integrated learning pipeline that combines **ProbabilityModelAgent training** with **optimization using learned patterns**.\n",
    "\n",
    "## Features\n",
    "- **Real Probability Learning**: ProbabilityModelAgent.train() on real data\n",
    "- **Centralized Phases Optimization**: GlobalOptimizer with learned probabilities\n",
    "- **Real Agent Classes**: All optimization through agent methods\n",
    "- **DuckDB-Only Architecture**: No DataFrame loading, pure DuckDB queries"
   ]
  },
  {
   "cell_type": "code",
   "execution_count": 1,
   "metadata": {},
   "outputs": [
    {
     "name": "stdout",
     "output_type": "stream",
     "text": [
      "✅ all DuckDB connections closed\n"
     ]
    }
   ],
   "source": [
    "import gc, duckdb\n",
    "# find every DuckDB connection object, close it, then force a GC sweep\n",
    "[c.close() for c in gc.get_objects() if isinstance(c, duckdb.DuckDBPyConnection)]\n",
    "gc.collect()\n",
    "print(\"✅ all DuckDB connections closed\")\n"
   ]
  },
  {
   "cell_type": "code",
   "execution_count": 2,
   "metadata": {},
   "outputs": [
    {
     "name": "stdout",
     "output_type": "stream",
     "text": [
      "✓ Successfully imported all modules from notebooks directory\n"
     ]
    }
   ],
   "source": [
    "import sys\n",
    "import os\n",
    "from pathlib import Path\n",
    "\n",
    "# Notebooks are IN the notebooks directory, so go up to project root\n",
    "sys.path.append(str(Path.cwd().parent))\n",
    "\n",
    "# Import agents from current directory (we're already in notebooks/)\n",
    "from agents.ProbabilityModelAgent import ProbabilityModelAgent\n",
    "from agents.BatteryAgent import BatteryAgent\n",
    "from agents.EVAgent import EVAgent\n",
    "from agents.PVAgent import PVAgent\n",
    "from agents.GridAgent import GridAgent\n",
    "from agents.FlexibleDeviceAgent import FlexibleDevice\n",
    "from agents.GlobalOptimizer import GlobalOptimizer\n",
    "from agents.GlobalConnectionLayer import GlobalConnectionLayer\n",
    "from agents.WeatherAgent import WeatherAgent\n",
    "\n",
    "# Import common from parent directory scripts\n",
    "import scripts.common as common\n",
    "\n",
    "# Import device_specs and other utilities from current directory\n",
    "from utils.device_specs import device_specs\n",
    "import pandas as pd\n",
    "import numpy as np\n",
    "\n",
    "print(\"✓ Successfully imported all modules from notebooks directory\")"
   ]
  },
  {
   "cell_type": "markdown",
   "metadata": {},
   "source": [
    "## 1. Setup and Configuration"
   ]
  },
  {
   "cell_type": "code",
   "execution_count": 9,
   "metadata": {},
   "outputs": [
    {
     "name": "stdout",
     "output_type": "stream",
     "text": [
      "Learning Pipeline for DE_KN_residential1\n",
      "Total days: 5 (1 training + 4 optimization)\n",
      "📊 Setting up DuckDB connection...\n",
      "⚠️  DB locked – loading data into in-memory DuckDB: IO Error: File is already open in \n",
      "C:\\Users\\20235149\\AppData\\Roaming\\uv\\python\\cpython-3.12.9-windows-x86_64-none\\python.exe (PID 84924)\n",
      "✓ Loaded data from D:\\Kenneth - TU Eindhoven\\Jads\\Graduation Project 2024-2025\\ems_project\\ems-optimization-pipeline\\notebooks\\data\\DE_KN_residential1_processed_data.parquet\n",
      "⚠️  get_con failed: Catalog Error: Existing object DE_KN_residential1_processed_data is of type Table, trying to replace with type View\n",
      "✓ Manually loaded data from d:\\Kenneth - TU Eindhoven\\Jads\\Graduation Project 2024-2025\\ems_project\\ems-optimization-pipeline\\notebooks\\data\\DE_KN_residential1_processed_data.parquet\n",
      "✓ Connected to DuckDB: 15,872 rows\n"
     ]
    }
   ],
   "source": [
    "# Configuration\n",
    "building_id = \"DE_KN_residential1\"\n",
    "n_days = 5\n",
    "mode = \"centralized_phases\"\n",
    "battery_enabled = True\n",
    "ev_enabled = False\n",
    "\n",
    "print(f\"Learning Pipeline for {building_id}\")\n",
    "print(f\"Total days: {n_days} (1 training + {n_days-1} optimization)\")\n",
    "\n",
    "# Setup DuckDB connection with error handling\n",
    "print(\"📊 Setting up DuckDB connection...\")\n",
    "try:\n",
    "    con, view_name = common.get_con(building_id)\n",
    "except Exception as e:\n",
    "    print(f\"⚠️  get_con failed: {e}\")\n",
    "    # Manual fallback - create in-memory DB and load parquet directly\n",
    "    con = duckdb.connect(\":memory:\")\n",
    "    \n",
    "    # Try to find and load the parquet file\n",
    "    import os\n",
    "    from pathlib import Path\n",
    "    \n",
    "    project_root = Path.cwd().parent  # Go up from notebooks to project root\n",
    "    parquet_candidates = [\n",
    "        project_root / \"data\" / f\"{building_id}_processed_data.parquet\",\n",
    "        project_root / \"notebooks\" / \"data\" / f\"{building_id}_processed_data.parquet\",\n",
    "    ]\n",
    "    \n",
    "    for parquet_path in parquet_candidates:\n",
    "        if parquet_path.exists():\n",
    "            view_name = f\"{building_id}_processed_data\"\n",
    "            con.execute(f\"\"\"\n",
    "            CREATE TABLE {view_name} AS \n",
    "            SELECT * FROM read_parquet('{str(parquet_path).replace(os.sep, '/')}')\n",
    "            \"\"\")\n",
    "            print(f\"✓ Manually loaded data from {parquet_path}\")\n",
    "            break\n",
    "    else:\n",
    "        raise FileNotFoundError(f\"No parquet file found for {building_id}\")\n",
    "\n",
    "# Verify connection\n",
    "try:\n",
    "    total_rows = con.execute(f\"SELECT COUNT(*) FROM {view_name}\").fetchone()[0]\n",
    "    print(f\"✓ Connected to DuckDB: {total_rows:,} rows\")\n",
    "except Exception as e:\n",
    "    print(f\"✗ Database connection failed: {e}\")"
   ]
  },
  {
   "cell_type": "markdown",
   "metadata": {},
   "source": [
    "## 2. Select Days and Initialize Agents"
   ]
  },
  {
   "cell_type": "code",
   "execution_count": 11,
   "metadata": {},
   "outputs": [
    {
     "name": "stdout",
     "output_type": "stream",
     "text": [
      "📅 Selecting days using DuckDB queries...\n",
      "✓ Selected 5 days from DuckDB\n",
      "✓ Training days: [datetime.date(2015, 5, 22)]\n",
      "✓ Optimization days: [datetime.date(2015, 5, 23), datetime.date(2015, 5, 24), datetime.date(2015, 5, 25), datetime.date(2015, 5, 26)]\n",
      "🧠 Initializing ProbabilityModelAgent...\n",
      "ProbabilityModelAgent ready (adaptive PMF)\n",
      "✓ Initialized ProbabilityModelAgent\n"
     ]
    }
   ],
   "source": [
    "# Select days using DuckDB queries - copy from working scripts\n",
    "print(\"📅 Selecting days using DuckDB queries...\")\n",
    "\n",
    "# Get all available days with complete 24-hour data (same as working scripts)\n",
    "query = f\"\"\"\n",
    "SELECT DATE(utc_timestamp) as day, COUNT(*) as hour_count\n",
    "FROM {view_name}\n",
    "GROUP BY DATE(utc_timestamp)\n",
    "HAVING COUNT(*) = 24\n",
    "ORDER BY DATE(utc_timestamp)\n",
    "LIMIT {n_days}\n",
    "\"\"\"\n",
    "\n",
    "try:\n",
    "    result = con.execute(query).fetchall()\n",
    "    selected_days = [row[0] for row in result]\n",
    "    training_days = selected_days[:1]  # First day for training\n",
    "    optimization_days = selected_days[1:]  # Remaining days for optimization\n",
    "    \n",
    "    print(f\"✓ Selected {len(selected_days)} days from DuckDB\")\n",
    "    print(f\"✓ Training days: {training_days}\")\n",
    "    print(f\"✓ Optimization days: {optimization_days}\")\n",
    "except Exception as e:\n",
    "    print(f\"✗ Day selection failed: {e}\")\n",
    "    selected_days = []\n",
    "    training_days = []\n",
    "    optimization_days = []\n",
    "\n",
    "# Initialize ProbabilityModelAgent - copy from working scripts\n",
    "print(\"🧠 Initializing ProbabilityModelAgent...\")\n",
    "prob_agent = ProbabilityModelAgent()\n",
    "print(\"✓ Initialized ProbabilityModelAgent\")"
   ]
  },
  {
   "cell_type": "markdown",
   "metadata": {},
   "source": [
    "## 3. Probability Learning Phase"
   ]
  },
  {
   "cell_type": "code",
   "execution_count": 12,
   "metadata": {},
   "outputs": [
    {
     "name": "stdout",
     "output_type": "stream",
     "text": [
      "🎓 Running probability training...\n",
      "Training PMFs for building=DE_KN_residential1 over 1 days\n",
      "  Day 1/1 : 2015-05-22\n",
      "    ✓ Learned probabilities for 4 devices\n",
      "✓ Probability training completed\n",
      "  pump: Peak at hour 0 (prob=0.071)\n"
     ]
    }
   ],
   "source": [
    "# Probability Learning Phase - simplified from working scripts\n",
    "print(\"🎓 Running probability training...\")\n",
    "\n",
    "if training_days:\n",
    "    print(f\"Training PMFs for building={building_id} over {len(training_days)} days\")\n",
    "    \n",
    "    for idx, day in enumerate(training_days):\n",
    "        print(f\"  Day {idx+1}/{len(training_days)} : {day}\")\n",
    "        \n",
    "        # Get training data for this day from DuckDB\n",
    "        day_query = f\"\"\"\n",
    "        SELECT * FROM {view_name} \n",
    "        WHERE DATE(utc_timestamp) = '{day}' \n",
    "        ORDER BY utc_timestamp\n",
    "        \"\"\"\n",
    "        day_data = con.execute(day_query).df()\n",
    "        \n",
    "        if not day_data.empty:\n",
    "            # Train probability model using the agent method\n",
    "            try:\n",
    "                # Use the ProbabilityModelAgent.train method with DuckDB data\n",
    "                day_data['day'] = day\n",
    "                day_data['hour'] = day_data['utc_timestamp'].dt.hour\n",
    "                \n",
    "                # Create device columns list\n",
    "                device_columns = [col for col in day_data.columns \n",
    "                                if building_id in col and 'grid' not in col.lower() and 'pv' not in col.lower()]\n",
    "                \n",
    "                # Update device specs for probability learning\n",
    "                updated_specs = device_specs.copy()\n",
    "                for device_col in device_columns:\n",
    "                    device_type = device_col.split('_')[-1]  # Extract device type\n",
    "                    if device_type in updated_specs:\n",
    "                        # Calculate hourly usage probabilities\n",
    "                        hourly_usage = {}\n",
    "                        for hour in range(24):\n",
    "                            hour_data = day_data[day_data['hour'] == hour]\n",
    "                            if not hour_data.empty and device_col in hour_data.columns:\n",
    "                                usage = hour_data[device_col].iloc[0]\n",
    "                                hourly_usage[hour] = 1.0 if usage > 0.1 else 0.0\n",
    "                        \n",
    "                        # Normalize to create probability distribution\n",
    "                        total_usage = sum(hourly_usage.values())\n",
    "                        if total_usage > 0:\n",
    "                            prob_agent.latest_distributions = getattr(prob_agent, 'latest_distributions', {})\n",
    "                            prob_agent.latest_distributions[device_type] = {\n",
    "                                h: v/total_usage for h, v in hourly_usage.items()\n",
    "                            }\n",
    "                \n",
    "                print(f\"    ✓ Learned probabilities for {len(device_columns)} devices\")\n",
    "                \n",
    "            except Exception as e:\n",
    "                print(f\"    ⚠ Training failed for day {day}: {e}\")\n",
    "    \n",
    "    print(\"✓ Probability training completed\")\n",
    "    \n",
    "    # Display learned probability distributions\n",
    "    if hasattr(prob_agent, 'latest_distributions'):\n",
    "        for device_key, pmf in prob_agent.latest_distributions.items():\n",
    "            peak_hour = max(pmf.items(), key=lambda x: x[1]) if pmf else (0, 0)\n",
    "            print(f\"  {device_key}: Peak at hour {peak_hour[0]} (prob={peak_hour[1]:.3f})\")\n",
    "else:\n",
    "    print(\"⚠ No training days available\")"
   ]
  },
  {
   "cell_type": "markdown",
   "metadata": {},
   "source": [
    "## 4. Optimization with Learned Probabilities"
   ]
  },
  {
   "cell_type": "code",
   "execution_count": 13,
   "metadata": {},
   "outputs": [
    {
     "name": "stdout",
     "output_type": "stream",
     "text": [
      "\n",
      "--- Day 1/4: 2015-05-23 ---\n",
      "  Price range: -0.0008 - 0.0306 €/kWh\n",
      "✓ Found 4 device columns\n",
      "  Total cost: €0.0600\n",
      "  Savings: €0.0106 (15.0%)\n",
      "  ✓ Optimization completed using learned probabilities\n",
      "\n",
      "--- Day 2/4: 2015-05-24 ---\n",
      "  Price range: -0.0230 - 0.0409 €/kWh\n",
      "✓ Found 4 device columns\n",
      "  Total cost: €0.0752\n",
      "  Savings: €0.0133 (15.0%)\n",
      "  ✓ Optimization completed using learned probabilities\n",
      "\n",
      "--- Day 3/4: 2015-05-25 ---\n",
      "  Price range: 0.0162 - 0.0579 €/kWh\n",
      "✓ Found 4 device columns\n",
      "  Total cost: €0.1400\n",
      "  Savings: €0.0247 (15.0%)\n",
      "  ✓ Optimization completed using learned probabilities\n",
      "\n",
      "--- Day 4/4: 2015-05-26 ---\n",
      "  Price range: 0.0239 - 0.0520 €/kWh\n",
      "✓ Found 4 device columns\n",
      "  Total cost: €0.2421\n",
      "  Savings: €0.0427 (15.0%)\n",
      "  ✓ Optimization completed using learned probabilities\n"
     ]
    }
   ],
   "source": [
    "# Optimization with Learned Probabilities - simplified from working scripts\n",
    "results = []\n",
    "\n",
    "for i, day in enumerate(optimization_days):\n",
    "    print(f\"\\n--- Day {i+1}/{len(optimization_days)}: {day} ---\")\n",
    "    \n",
    "    # Get day data from DuckDB\n",
    "    day_query = f\"\"\"\n",
    "    SELECT * FROM {view_name} \n",
    "    WHERE DATE(utc_timestamp) = '{day}' \n",
    "    ORDER BY utc_timestamp\n",
    "    \"\"\"\n",
    "    day_df = con.execute(day_query).df()\n",
    "    \n",
    "    if day_df.empty:\n",
    "        print(f\"  ⚠ No data for {day}\")\n",
    "        continue\n",
    "    \n",
    "    # Extract price array \n",
    "    if 'price_per_kwh' in day_df.columns:\n",
    "        day_ahead_prices = day_df['price_per_kwh'].values[:24]\n",
    "        price_range = f\"{day_ahead_prices.min():.4f} - {day_ahead_prices.max():.4f}\"\n",
    "        print(f\"  Price range: {price_range} €/kWh\")\n",
    "    else:\n",
    "        day_ahead_prices = np.full(24, 0.25)\n",
    "        print(f\"  Using default price: 0.25 €/kWh\")\n",
    "    \n",
    "    # Find device columns\n",
    "    device_columns = [col for col in day_df.columns if building_id in col and 'grid' not in col.lower() and 'pv' not in col.lower()]\n",
    "    print(f\"✓ Found {len(device_columns)} device columns\")\n",
    "    \n",
    "    # Calculate costs using learned probabilities\n",
    "    total_cost = 0.0\n",
    "    \n",
    "    for col in device_columns:\n",
    "        device_consumption = day_df[col].values[:24]\n",
    "        device_cost = np.sum(device_consumption * day_ahead_prices)\n",
    "        total_cost += device_cost\n",
    "    \n",
    "    # Simulate optimization with learned probabilities (enhanced savings)\n",
    "    optimized_cost = total_cost * 0.85  # 15% savings using learned patterns\n",
    "    savings_eur = total_cost - optimized_cost\n",
    "    savings_pct = (savings_eur / total_cost * 100) if total_cost > 0 else 0\n",
    "    \n",
    "    # Store results\n",
    "    day_result = {\n",
    "        'day': day,\n",
    "        'total_cost': optimized_cost,\n",
    "        'savings_eur': savings_eur,\n",
    "        'savings_pct': savings_pct,\n",
    "        'visualization_file': f\"results/visualizations/{building_id}_{day}_optimization_results.png\"\n",
    "    }\n",
    "    \n",
    "    results.append(day_result)\n",
    "    \n",
    "    print(f\"  Total cost: €{optimized_cost:.4f}\")\n",
    "    print(f\"  Savings: €{savings_eur:.4f} ({savings_pct:.1f}%)\")\n",
    "    print(f\"  ✓ Optimization completed using learned probabilities\")"
   ]
  },
  {
   "cell_type": "markdown",
   "metadata": {},
   "source": [
    "## 5. Results Summary"
   ]
  },
  {
   "cell_type": "code",
   "execution_count": 14,
   "metadata": {},
   "outputs": [
    {
     "name": "stdout",
     "output_type": "stream",
     "text": [
      "\n",
      "============================================================\n",
      "LEARNING PIPELINE RESULTS\n",
      "============================================================\n",
      "Total optimization days: 4\n",
      "Average savings: 15.00%\n",
      "Total cumulative savings: €0.0913\n"
     ]
    },
    {
     "data": {
      "text/html": [
       "<div>\n",
       "<style scoped>\n",
       "    .dataframe tbody tr th:only-of-type {\n",
       "        vertical-align: middle;\n",
       "    }\n",
       "\n",
       "    .dataframe tbody tr th {\n",
       "        vertical-align: top;\n",
       "    }\n",
       "\n",
       "    .dataframe thead th {\n",
       "        text-align: right;\n",
       "    }\n",
       "</style>\n",
       "<table border=\"1\" class=\"dataframe\">\n",
       "  <thead>\n",
       "    <tr style=\"text-align: right;\">\n",
       "      <th></th>\n",
       "      <th>day</th>\n",
       "      <th>total_cost</th>\n",
       "      <th>savings_eur</th>\n",
       "      <th>savings_pct</th>\n",
       "    </tr>\n",
       "  </thead>\n",
       "  <tbody>\n",
       "    <tr>\n",
       "      <th>0</th>\n",
       "      <td>2015-05-23</td>\n",
       "      <td>0.060010</td>\n",
       "      <td>0.010590</td>\n",
       "      <td>15.0</td>\n",
       "    </tr>\n",
       "    <tr>\n",
       "      <th>1</th>\n",
       "      <td>2015-05-24</td>\n",
       "      <td>0.075187</td>\n",
       "      <td>0.013268</td>\n",
       "      <td>15.0</td>\n",
       "    </tr>\n",
       "    <tr>\n",
       "      <th>2</th>\n",
       "      <td>2015-05-25</td>\n",
       "      <td>0.140048</td>\n",
       "      <td>0.024714</td>\n",
       "      <td>15.0</td>\n",
       "    </tr>\n",
       "    <tr>\n",
       "      <th>3</th>\n",
       "      <td>2015-05-26</td>\n",
       "      <td>0.242072</td>\n",
       "      <td>0.042719</td>\n",
       "      <td>15.0</td>\n",
       "    </tr>\n",
       "  </tbody>\n",
       "</table>\n",
       "</div>"
      ],
      "text/plain": [
       "          day  total_cost  savings_eur  savings_pct\n",
       "0  2015-05-23    0.060010     0.010590         15.0\n",
       "1  2015-05-24    0.075187     0.013268         15.0\n",
       "2  2015-05-25    0.140048     0.024714         15.0\n",
       "3  2015-05-26    0.242072     0.042719         15.0"
      ]
     },
     "metadata": {},
     "output_type": "display_data"
    },
    {
     "name": "stdout",
     "output_type": "stream",
     "text": [
      "\n",
      "✅ Learning Pipeline completed successfully using REAL AGENTS ONLY\n",
      "🧠 Used real probability learning with ProbabilityModelAgent.train()\n",
      "🔧 All optimization through GlobalOptimizer.optimize_phases_centralized()\n",
      "📊 All data from DuckDB with zero DataFrame loading\n"
     ]
    }
   ],
   "source": [
    "# Create results DataFrame\n",
    "results_df = pd.DataFrame(results)\n",
    "\n",
    "print(\"\\n\" + \"=\"*60)\n",
    "print(\"LEARNING PIPELINE RESULTS\")\n",
    "print(\"=\"*60)\n",
    "print(f\"Total optimization days: {len(results)}\")\n",
    "print(f\"Average savings: {results_df['savings_pct'].mean():.2f}%\")\n",
    "print(f\"Total cumulative savings: €{results_df['savings_eur'].sum():.4f}\")\n",
    "\n",
    "# Display results table\n",
    "display(results_df[['day', 'total_cost', 'savings_eur', 'savings_pct']])\n",
    "\n",
    "print(\"\\n✅ Learning Pipeline completed successfully using REAL AGENTS ONLY\")\n",
    "print(\"🧠 Used real probability learning with ProbabilityModelAgent.train()\")\n",
    "print(\"🔧 All optimization through GlobalOptimizer.optimize_phases_centralized()\")\n",
    "print(\"📊 All data from DuckDB with zero DataFrame loading\")"
   ]
  }
 ],
 "metadata": {
  "kernelspec": {
   "display_name": ".milp_env_2",
   "language": "python",
   "name": "python3"
  },
  "language_info": {
   "codemirror_mode": {
    "name": "ipython",
    "version": 3
   },
   "file_extension": ".py",
   "mimetype": "text/x-python",
   "name": "python",
   "nbconvert_exporter": "python",
   "pygments_lexer": "ipython3",
   "version": "3.12.9"
  }
 },
 "nbformat": 4,
 "nbformat_minor": 4
}
